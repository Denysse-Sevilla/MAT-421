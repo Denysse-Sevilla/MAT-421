{
  "nbformat": 4,
  "nbformat_minor": 0,
  "metadata": {
    "colab": {
      "provenance": [],
      "authorship_tag": "ABX9TyPBUnXp/V9cJ8p9mt5jioHL",
      "include_colab_link": true
    },
    "kernelspec": {
      "name": "python3",
      "display_name": "Python 3"
    },
    "language_info": {
      "name": "python"
    }
  },
  "cells": [
    {
      "cell_type": "markdown",
      "metadata": {
        "id": "view-in-github",
        "colab_type": "text"
      },
      "source": [
        "<a href=\"https://colab.research.google.com/github/Denysse-Sevilla/MAT-421/blob/main/ModuleA.ipynb\" target=\"_parent\"><img src=\"https://colab.research.google.com/assets/colab-badge.svg\" alt=\"Open In Colab\"/></a>"
      ]
    },
    {
      "cell_type": "code",
      "execution_count": 1,
      "metadata": {
        "id": "AI9DWAexzIt3"
      },
      "outputs": [],
      "source": []
    },
    {
      "cell_type": "markdown",
      "source": [
        "# **Homework #1- Denysse Sevilla**"
      ],
      "metadata": {
        "id": "un0x2QeH37QC"
      }
    },
    {
      "cell_type": "markdown",
      "source": [
        "## Section 9.1: Base-N and Binary"
      ],
      "metadata": {
        "id": "SAV8p9_r41cN"
      }
    },
    {
      "cell_type": "markdown",
      "source": [
        "There are many ways to represent numbers.\n",
        "\n",
        "*   The most commonly used system is the decimal system, or base10, where the digits from 0 to 9 are used. These digits are the coefficients that are multiplied by a power of 10. This system in primarily used in typical writing.\n",
        "*   Another widely known system is the binary system, or base2, where the digits 0 and 1 are used. These digits are the coefficients that are multiplied by a power of 2. This system is primarily used in computer science and digital electronics."
      ],
      "metadata": {
        "id": "aj9JsmbI50NS"
      }
    },
    {
      "cell_type": "markdown",
      "source": [
        "Decomposition of Base10:"
      ],
      "metadata": {
        "id": "jEgBJte594z7"
      }
    },
    {
      "cell_type": "code",
      "source": [
        "# 58(base10)\n",
        "\n",
        "58 == 5*10**1 + 8*10**0"
      ],
      "metadata": {
        "colab": {
          "base_uri": "https://localhost:8080/"
        },
        "id": "3PSt8G5l4XjL",
        "outputId": "ef1b1c9e-b68d-4a65-b06e-36c573079833"
      },
      "execution_count": 3,
      "outputs": [
        {
          "output_type": "execute_result",
          "data": {
            "text/plain": [
              "True"
            ]
          },
          "metadata": {},
          "execution_count": 3
        }
      ]
    },
    {
      "cell_type": "markdown",
      "source": [
        "Decomposition of Base2:"
      ],
      "metadata": {
        "id": "I9soaS7t-hqn"
      }
    },
    {
      "cell_type": "code",
      "source": [
        "# 148(base10) = 10010100(base2)\n",
        "148 == 128 + 16 + 4 == 1*2**7 + 0*2**6 + 0*2**5 + 1*2**4 + 0*2**3 + 1*2**2 + 0*2**1 + 0*2**0\n"
      ],
      "metadata": {
        "colab": {
          "base_uri": "https://localhost:8080/"
        },
        "id": "OmAkUUeo-fmT",
        "outputId": "24e32334-227d-4b3d-91a6-f3e223d18b49"
      },
      "execution_count": 6,
      "outputs": [
        {
          "output_type": "execute_result",
          "data": {
            "text/plain": [
              "True"
            ]
          },
          "metadata": {},
          "execution_count": 6
        }
      ]
    },
    {
      "cell_type": "markdown",
      "source": [
        "To conduct binary decomposition from base10, the trick is to search for the higest power of 2 that does not surpass the given number. Using the example above, $\\ 2^7$ = 128 which is less than 148. Since,\n",
        "\n",
        "\n",
        "  148 - 128 = 20\n",
        "\n",
        "\\\\\n",
        "Now we find the highest power of 2 that does not surpass 20.\n",
        "\n",
        "Notice that $\\ 2^4$ = 16 which is less than 20. Subtracting gives\n",
        "\n",
        "  148 - 128 - 16 = 4\n",
        "\n",
        "\\\\\n",
        "This process continues until we have reduced the original number as much as possible. In this case, we go up until 4 ( $\\ 2^2$ ). As a result, we have\n",
        "\n",
        "  148 = 128 + 16 + 4 = $\\ 2^7$ + $\\ 2^4$ + $\\ 2^2$.\n",
        "\n",
        "\\\\\n",
        "Recall, that the binary system uses 0 and 1 as coefficients that are multiplied by a power of 2. Now that we have found the powers of 2, we simply multiply each one by 1 and fill in the remaining powers by multiplying by 0 until you reach the power of 0:\n",
        "\n",
        "  148(base10) = 1⋅$\\ 2^7$ + 0⋅$\\ 2^6$ + 0⋅$\\ 2^5$ + 1⋅$\\ 2^4$ + 0⋅$\\ 2^3$ + 1⋅$\\ 2^2$ + 0⋅$\\ 2^1$ + 0⋅$\\ 2^0$.\n",
        "\n",
        "\\\\\n",
        "Now to convert to binary numbers, we retrieve the coefficient of each term:\n",
        "\n",
        "  148(base10) = 10010100(base2)\n",
        "\n",
        "\\\\\n",
        "And that is how you convert base10 numbers to base2!\n",
        "\n",
        "\\\\\n",
        "Addition and multiplication of binary numbers is similar to that of the decimal system. On the decimal system, when the addition or multiplication of two digits are equal or greater than 10, the 1 carries over to the next place. Similarly, when the addition or multiplication of two digits equal 2, a 1 is carried over and a 0 is left behind.\n",
        "\n",
        "\n",
        "\n",
        "\n",
        "\n",
        "\n",
        "\n",
        ""
      ],
      "metadata": {
        "id": "VIz8ngW0-fCH"
      }
    },
    {
      "cell_type": "markdown",
      "source": [
        "## Section 9.2: Floating Point Numbers"
      ],
      "metadata": {
        "id": "ZGJ8Mfui4zps"
      }
    },
    {
      "cell_type": "markdown",
      "source": [
        "**Floating point** numbers, or **float**, are a way to represent real numbers in computers.\n",
        "\n",
        "Floats distribute bits to three different parts:\n",
        "\n",
        "\n",
        "*   **Sign indicator**, which determines whether the number is negative or positive\n",
        "  *   0 = positive, 1 = negative\n",
        "\n",
        "\n",
        "*   **Exponent**, which is the power of 2\n",
        "\n",
        "* **Fraction**, which is the coefficient of the exponent.\n",
        "  * A number between 1 and 2\n",
        "\n",
        "\\\\\n",
        "A float can be represented as:\n",
        "\n",
        "n = $\\ (-1)^s$⋅ $\\ 2^{e-1023}$⋅ (1+ 𝒇)\n",
        "\n",
        "\\\\\n",
        "The **IEEE754 Standard**, commonly used across all platforms, uses 64 bits. Below are the bits distribution:\n",
        "* **1** bit - sign indicator\n",
        "* **11** bits - exponent\n",
        "* **52** bits - fraction\n",
        "\n",
        "\\\\\n",
        "We normalize the exponent by subtracting 1023, allowing the use of precise numbers.\n",
        "\n",
        "\\\\\n",
        "In Python, additional float information can be obtained using the *sys* package:\n"
      ],
      "metadata": {
        "id": "ZFRxAmsN5060"
      }
    },
    {
      "cell_type": "code",
      "source": [
        "import sys\n",
        "sys.float_info"
      ],
      "metadata": {
        "colab": {
          "base_uri": "https://localhost:8080/"
        },
        "id": "RPucjSnF5U8R",
        "outputId": "9a6e5941-0d9b-4797-f4ca-7a67de83c50a"
      },
      "execution_count": 1,
      "outputs": [
        {
          "output_type": "execute_result",
          "data": {
            "text/plain": [
              "sys.float_info(max=1.7976931348623157e+308, max_exp=1024, max_10_exp=308, min=2.2250738585072014e-308, min_exp=-1021, min_10_exp=-307, dig=15, mant_dig=53, epsilon=2.220446049250313e-16, radix=2, rounds=1)"
            ]
          },
          "metadata": {},
          "execution_count": 1
        }
      ]
    },
    {
      "cell_type": "code",
      "source": [
        "# Converting IEEE754 to base 10\n",
        "\n",
        "# 0 10000000010 1000000000000000000000000000000000000000000000000000(IEEE754) = 12(base10)\n",
        "\n",
        "12 == (-1)**0 * (2**((1*2**10 + 1*2**1) - 1023)) * (1+(1*(1/2**1)))"
      ],
      "metadata": {
        "colab": {
          "base_uri": "https://localhost:8080/"
        },
        "id": "9HFqIFNroJHg",
        "outputId": "7d554a61-9d0f-46d1-c145-c7d70e4c124a"
      },
      "execution_count": 5,
      "outputs": [
        {
          "output_type": "execute_result",
          "data": {
            "text/plain": [
              "True"
            ]
          },
          "metadata": {},
          "execution_count": 5
        }
      ]
    },
    {
      "cell_type": "markdown",
      "source": [
        "\n",
        "| Sign Indicator | Exponent | Fraction |\n",
        "|----------------|:---------|:---------|\n",
        "| 0              | 10000000010 | 1000000000000000000000000000000000000000000000000000 |\n",
        "\n",
        "\\\\\n",
        "On the example above, the sign indicator is 0, meaning s = positive. Also note the decimal value of the exponent (recall binary to base10 conversion) is\n",
        "\n",
        "e = 1⋅ $\\ 2^{10}$ + 1⋅ $\\ 2^1$\n",
        "\n",
        "\\\\\n",
        "Finally, notice that the fraction has only one 1, which is the first digit. Hence,\n",
        "\n",
        "$\\ 𝒇 = 1⋅ \\frac{1}{2^1} + 0⋅ \\frac{1}{2^2} + 0⋅ \\frac{1}{2^3} + ... $\n",
        "\n",
        "\\\\\n",
        "Substituting these values into our equation gives:\n",
        "\n",
        "n = $\\ (-1)^0$⋅ $\\ 2^{(1⋅  2^{10} + 1⋅  2^1) -1023}$⋅ (1+ 1⋅ $\\frac{1}{2^1}$) = 12\n",
        "\n",
        "\\\\\n",
        "An IEEE754 number represents also represents all real numbers halfway between its next neighbors. The distance from one IEEE754 number to the next is called the **gap**. The gap can be computed using the function *spacing*:\n",
        "\n"
      ],
      "metadata": {
        "id": "1nI5oxPaoKnx"
      }
    },
    {
      "cell_type": "code",
      "source": [
        "import numpy as np\n",
        "# Determine the gap at 1e5\n",
        "\n",
        "np.spacing(1e5)"
      ],
      "metadata": {
        "colab": {
          "base_uri": "https://localhost:8080/"
        },
        "id": "9jT-wEVP07rV",
        "outputId": "e25693f1-977c-4e58-9fcf-57cae1539632"
      },
      "execution_count": 6,
      "outputs": [
        {
          "output_type": "execute_result",
          "data": {
            "text/plain": [
              "1.4551915228366852e-11"
            ]
          },
          "metadata": {},
          "execution_count": 6
        }
      ]
    },
    {
      "cell_type": "code",
      "source": [
        "# Check that adding a number to 1e5 that is less than half the gap at 1e5 results in the same number\n",
        "\n",
        "1e5 == (1e5 + np.spacing(1e5)/4)"
      ],
      "metadata": {
        "colab": {
          "base_uri": "https://localhost:8080/"
        },
        "id": "RtI1yDXV1I8K",
        "outputId": "6e0f199e-1e7f-41d1-9e92-ab7218b14b12"
      },
      "execution_count": 7,
      "outputs": [
        {
          "output_type": "execute_result",
          "data": {
            "text/plain": [
              "True"
            ]
          },
          "metadata": {},
          "execution_count": 7
        }
      ]
    },
    {
      "cell_type": "markdown",
      "source": [
        "There are a couple of special cases:\n",
        "* When e=0 (e=00000000000(base2))\n",
        "  * The leading 1 in the fraction becomes 0\n",
        "    * This is computed by:\n",
        "\n",
        "  n = $\\ (-1)^s$⋅ $\\ 2^{-1022}$⋅ (0+ 𝒇)\n",
        "\n",
        "* When e=2047 (e=11111111111(base2))\n",
        "  * If 𝒇 = 0 and s = 0, the result is positive infinity\n",
        "  * If 𝒇 is nonzero and s=1, the result is negative infinity\n",
        "\n",
        "  \\\\\n",
        "  Numbers that are larger than the largest representable float results in **overflow**.\n",
        "\n",
        "  Numbers that are smaller than the smallest representable float results in **underflow**."
      ],
      "metadata": {
        "id": "FQCH5PsI2B2D"
      }
    },
    {
      "cell_type": "code",
      "source": [
        "# Notice how adding the maximum 64 bits float number to itself results in overflow.\n",
        "sys.float_info.max + sys.float_info.max"
      ],
      "metadata": {
        "colab": {
          "base_uri": "https://localhost:8080/"
        },
        "id": "404QocCy7Q4-",
        "outputId": "12a4a058-196c-4776-c5f8-8cf37fe78166"
      },
      "execution_count": 9,
      "outputs": [
        {
          "output_type": "execute_result",
          "data": {
            "text/plain": [
              "inf"
            ]
          },
          "metadata": {},
          "execution_count": 9
        }
      ]
    },
    {
      "cell_type": "code",
      "source": [
        "# Notice how 2^(-1075) underflows to 0.\n",
        "2**(-1075)"
      ],
      "metadata": {
        "colab": {
          "base_uri": "https://localhost:8080/"
        },
        "id": "rfMhCTuJ7pAy",
        "outputId": "24063698-fa9c-423e-bc49-10c2a437255d"
      },
      "execution_count": 10,
      "outputs": [
        {
          "output_type": "execute_result",
          "data": {
            "text/plain": [
              "0.0"
            ]
          },
          "metadata": {},
          "execution_count": 10
        }
      ]
    },
    {
      "cell_type": "markdown",
      "source": [
        "## Section 9.3: Round-off Errors"
      ],
      "metadata": {
        "id": "Dt28uvPn5ecL"
      }
    },
    {
      "cell_type": "markdown",
      "source": [
        "Floating point numbers cannot be stored in computers with exact precision, leading to round-off errors. **Round-off errors** are the difference between the true value and its approximation.\n",
        "\n",
        "\\\\\n",
        "Examples:\n",
        "* Representation Error\n",
        "  * π vs. 3.14159265\n",
        "  * $\\frac{1}{3}$ vs. 0.33333...\n",
        "* Arithmetic Error\n",
        "  * Arithmetically, 4.9 - 4.845 = 0.055. However, in Python:"
      ],
      "metadata": {
        "id": "LHpE4zbS06qc"
      }
    },
    {
      "cell_type": "code",
      "source": [
        "4.9-4.845 == 0.055\n",
        "\n",
        "# This occurs because 0.055 is actually an approximation. The true value is 0.055000000000000604."
      ],
      "metadata": {
        "colab": {
          "base_uri": "https://localhost:8080/"
        },
        "id": "HZuMIfQm5nbl",
        "outputId": "2d1521bf-7adb-46f9-f7cf-ee99a9ad5e17"
      },
      "execution_count": 11,
      "outputs": [
        {
          "output_type": "execute_result",
          "data": {
            "text/plain": [
              "False"
            ]
          },
          "metadata": {},
          "execution_count": 11
        }
      ]
    },
    {
      "cell_type": "markdown",
      "source": [
        "These small errors, due to inexact representation, can be accumulated after a sequence of calculations."
      ],
      "metadata": {
        "id": "s1a4rXeD51SZ"
      }
    },
    {
      "cell_type": "code",
      "source": [
        "def add_and_subtract(iterations):\n",
        "  result = 1\n",
        "\n",
        "  for i in range(iterations):\n",
        "    result +=1/6\n",
        "\n",
        "  for i in range(iterations):\n",
        "      result -=1/6\n",
        "  return result\n"
      ],
      "metadata": {
        "id": "pzs9AQt1HQXE"
      },
      "execution_count": 31,
      "outputs": []
    },
    {
      "cell_type": "code",
      "source": [
        "# 1000 iterations\n",
        "add_and_subtract(1000)"
      ],
      "metadata": {
        "colab": {
          "base_uri": "https://localhost:8080/"
        },
        "id": "OROWxhPmHjWi",
        "outputId": "43861d0b-0620-4baf-daf9-5718a3c9bef1"
      },
      "execution_count": 36,
      "outputs": [
        {
          "output_type": "execute_result",
          "data": {
            "text/plain": [
              "1.000000000000003"
            ]
          },
          "metadata": {},
          "execution_count": 36
        }
      ]
    },
    {
      "cell_type": "code",
      "source": [
        "# 10000 iterations\n",
        "add_and_subtract(10000)"
      ],
      "metadata": {
        "colab": {
          "base_uri": "https://localhost:8080/"
        },
        "id": "lkynk0aHI9E1",
        "outputId": "2d13a9ea-8823-4d92-9001-a5016a315b2a"
      },
      "execution_count": 37,
      "outputs": [
        {
          "output_type": "execute_result",
          "data": {
            "text/plain": [
              "1.0000000000000582"
            ]
          },
          "metadata": {},
          "execution_count": 37
        }
      ]
    },
    {
      "cell_type": "code",
      "source": [
        "# 100000 iterations\n",
        "add_and_subtract(100000)"
      ],
      "metadata": {
        "colab": {
          "base_uri": "https://localhost:8080/"
        },
        "id": "bb5_ozCXJ6IR",
        "outputId": "307c78f3-d41d-45ea-b48f-cc1732296926"
      },
      "execution_count": 38,
      "outputs": [
        {
          "output_type": "execute_result",
          "data": {
            "text/plain": [
              "1.0000000000009606"
            ]
          },
          "metadata": {},
          "execution_count": 38
        }
      ]
    }
  ]
}