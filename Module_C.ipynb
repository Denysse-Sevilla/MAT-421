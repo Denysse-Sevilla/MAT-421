{
  "nbformat": 4,
  "nbformat_minor": 0,
  "metadata": {
    "colab": {
      "provenance": [],
      "authorship_tag": "ABX9TyO83WUcSzsNRa98yU3ifKiK",
      "include_colab_link": true
    },
    "kernelspec": {
      "name": "python3",
      "display_name": "Python 3"
    },
    "language_info": {
      "name": "python"
    }
  },
  "cells": [
    {
      "cell_type": "markdown",
      "metadata": {
        "id": "view-in-github",
        "colab_type": "text"
      },
      "source": [
        "<a href=\"https://colab.research.google.com/github/Denysse-Sevilla/MAT-421/blob/main/Module_C.ipynb\" target=\"_parent\"><img src=\"https://colab.research.google.com/assets/colab-badge.svg\" alt=\"Open In Colab\"/></a>"
      ]
    },
    {
      "cell_type": "markdown",
      "source": [
        "# **Homework #4- Denysse Sevilla**\n"
      ],
      "metadata": {
        "id": "EwQq2-vd0f3a"
      }
    },
    {
      "cell_type": "markdown",
      "source": [
        "## Section 19.1: Root Finding Problem Statement"
      ],
      "metadata": {
        "id": "rRz72M4205LB"
      }
    },
    {
      "cell_type": "markdown",
      "source": [
        "The **root** of a function, $f(x)$, is when $f(x) =0$. The roots of some functions can be easily derived, however there are others whose **exact solution** can be more complex to find. In these situations, **numerical approximations** of the roots of a function are generated.\n",
        "\n",
        "\\\n",
        "Ex: Use the *fsolve* function from scipy to compute the root of $f(x) = sin(x)-x$ near $-4$. Verify the at the solution is approixmately a root."
      ],
      "metadata": {
        "id": "uiTnFvZ71RDK"
      }
    },
    {
      "cell_type": "code",
      "execution_count": null,
      "metadata": {
        "colab": {
          "base_uri": "https://localhost:8080/"
        },
        "id": "YW2wCtfOzWD1",
        "outputId": "63359df1-a0db-48fc-e077-d974d659f723"
      },
      "outputs": [
        {
          "output_type": "stream",
          "name": "stdout",
          "text": [
            "r = [-1.78593599e-08]\n",
            "result = [0.]\n"
          ]
        }
      ],
      "source": [
        "import numpy as np\n",
        "from scipy import optimize\n",
        "\n",
        "f = lambda x: np.sin(x)-x\n",
        "r = optimize.fsolve(f,-3)\n",
        "print(\"r =\", r)\n",
        "\n",
        "# Verify the solution is a root\n",
        "result = f(r)\n",
        "print(\"result =\", result)"
      ]
    },
    {
      "cell_type": "markdown",
      "source": [
        "As shown, $r ≈ 0$.\n",
        "\n",
        "\\\n",
        "Ex: The function $f(x) = \\frac{1}{x}$ has no root. Use the *fsolve* function to try and compute its root. Turn on the *full_output* to see what's going on."
      ],
      "metadata": {
        "id": "ew1cetue3_NR"
      }
    },
    {
      "cell_type": "code",
      "source": [
        "import numpy as np\n",
        "from scipy import optimize\n",
        "\n",
        "f = lambda x: 1/x\n",
        "\n",
        "r, infodict, ier, mesg = optimize.fsolve(f, -2, full_output = True) # provides more information of the result.\n",
        "print(\"r =\", r)\n",
        "\n",
        "\n",
        "result = f(r)\n",
        "print(\"result =\", result)\n",
        "\n",
        "print(mesg) # mesg will return a message if no solution is found."
      ],
      "metadata": {
        "colab": {
          "base_uri": "https://localhost:8080/"
        },
        "id": "vY32RAC24u5A",
        "outputId": "102e109d-9c9e-40e5-aa78-0b03c7876c99"
      },
      "execution_count": null,
      "outputs": [
        {
          "output_type": "stream",
          "name": "stdout",
          "text": [
            "r = [-3.52047359e+83]\n",
            "result = [-2.84052692e-84]\n",
            "The number of calls to function has reached maxfev = 400.\n"
          ]
        }
      ]
    },
    {
      "cell_type": "markdown",
      "source": [
        "Although $f(r)$ is very small, result $\\neq 0$, hence $r$ is not a root."
      ],
      "metadata": {
        "id": "pSG3g3Mv8qh3"
      }
    },
    {
      "cell_type": "markdown",
      "source": [
        "## Section 19.2: Tolerance\n"
      ],
      "metadata": {
        "id": "Y8HqPuq19zvt"
      }
    },
    {
      "cell_type": "markdown",
      "source": [
        "An **error** is the difference between the expected and computed value. **Tolerance** is the level of error that is acceptable.\n",
        "\n",
        "\\\n",
        "**Convering** to a solution is when an error smaller than tolerance is found.\n",
        "\n",
        "\\\n",
        "Establishing a metric for error and tolerance for a given application is important!\n",
        "\n",
        "Say we want to find $x_r$ such that $f(x_r)$ is very close to 0. Then an appropriate measure of error could be $ |f(x)| $ or $|x_{i+1} - x_i|$ , where $x_i$ is the $i$th guess of an algorithm for finding the root. Both have pros and cons.\n",
        "\n",
        "\\\n",
        "Ex: Let error be measured by $e=|f(x)|$ and tol be the accepted level of error. The function $f(x) = 2x^2+tol/2$ has no real roots. However, $|f(0)|=tol/2$ and is therefore acceptable as a solution for a computer program.\n",
        "\n",
        "Ex: Let error be measured by $|x_{i+1} - x_i|$ and tol be the accepted level of error. The function $f(x) = \\frac{1}{x}$ has no real roots, but $x_i = -tol/4$ and $x_{i+1} = tol/4$ gives an error of $e = tol/2$, which is also an acceptable solution for a computer program."
      ],
      "metadata": {
        "id": "xANvf8Z8Bnyy"
      }
    },
    {
      "cell_type": "markdown",
      "source": [
        "## Section 19.3: Bisection Method"
      ],
      "metadata": {
        "id": "CZNin1zoFvOb"
      }
    },
    {
      "cell_type": "markdown",
      "source": [
        "The **Intermediate Value Theorem** says that if $f(x)$ is a continuous function between $a$ and $b$, then there must be a $c$ such that $a<c<b$ and $f(c)=0$ if $f(a)$ and $f(b)$\n",
        "have different signs (+/-).\n",
        "\n",
        "The **bisection method** uses this theorem to find roots. Assume that\n",
        "$f(a)>0$ and $f(b)<0$. Let $m=\\frac{b+a}{2}$ be the midpoint between\n",
        "$a$ and $b$. If $f(m)≈0$\n",
        "then it is a root. However, if $f(m)>0$, then $m$ is an improvement on the left bound ($a$). Then by the intermediate value theorem, it is guaranteed that a root falls at or between ($m$,b). On the other hand, when $f(m)<0$, $m$ is an improvement on the right bound ($b$) and it is guaranteed by the intermediate value theorem that a root exists on the open intervel ($a,m$).\n",
        "\n",
        "\\\n",
        "Ex: Program a function *my_bisection(f, a, b, tol)* that approximates a root *r* of $f$, bounded by $a$ and $b$ to within $|f(\\frac{a+b}{2})|<tol$.\n",
        "\n"
      ],
      "metadata": {
        "id": "PwU21yHrF1Mk"
      }
    },
    {
      "cell_type": "code",
      "source": [
        "import numpy as np\n",
        "\n",
        "def my_bisection(f, a, b, tol):\n",
        "  #Checks if a and b bound a root\n",
        "  if np.sign(f(a)) == np.sign(f(b)):\n",
        "    raise Exception(\"The scalars a and b do not bound a root\")\n",
        "\n",
        "    m = (a + b)/2 #Gets midpoint\n",
        "\n",
        "    if np.abs(f(m)) < tol: #This is our stopping condition. If true, m is our root.\n",
        "      return m\n",
        "\n",
        "    elif np.sign(f(a)) == np.sign(f(m)): #This is the case where m is an improvement on a\n",
        "      return my_bisection(f, m, b, tol) #Makes recursive call with a=m\n",
        "\n",
        "    elif np.sign(f(b)) == np.sign(f(m)): #This is the case where m is an improvement on n\n",
        "      return my_bisection(f, a, m, tol) #Makes recursive call with b=m\n"
      ],
      "metadata": {
        "id": "hWicNHT89qpX"
      },
      "execution_count": null,
      "outputs": []
    },
    {
      "cell_type": "markdown",
      "source": [
        "## Section 19.4: Newton-Raphson Method"
      ],
      "metadata": {
        "id": "smH4nLLhSaU1"
      }
    },
    {
      "cell_type": "markdown",
      "source": [
        "A **Newton step** computes an improved guess, $x_i$, for the function $f(x_r)$ ( where $x_r$ is an unknown root) using a previous guess $x_{i-1}$. This can be derived using the equation:\n",
        "\n",
        "\\\n",
        "$ x_i$ $= x_{i-1}-$ $ \\frac{g(x_{i-1}) }{g'(x_{i-1}) }$.\n",
        "\n",
        "\\\n",
        "The **Newton-Raphson Method** of finding roots repeats these steps from $x_0$ until the error is less than the tolerance!"
      ],
      "metadata": {
        "id": "-7T9oyTxSjPG"
      }
    },
    {
      "cell_type": "markdown",
      "source": [
        "Ex: Let $\\sqrt2$  be the root of the function $f(x) = 2x^2-4$. Using $x_0 = 1.4$ as a starting point, use the previous equation to estimate $\\sqrt2$. Compare the approximation with the value computed by Pthon's sqrt function."
      ],
      "metadata": {
        "id": "q0ZNFwCWWk5Q"
      }
    },
    {
      "cell_type": "code",
      "source": [
        "import numpy as np\n",
        "\n",
        "f = lambda x: 2* x**2 - 4\n",
        "f_prime = lambda x: 4*x\n",
        "newton_raphson = 1.4 - (f(1.4))/(f_prime(1.4))\n",
        "\n",
        "print(newton_raphson)\n",
        "print(np.sqrt(2))"
      ],
      "metadata": {
        "colab": {
          "base_uri": "https://localhost:8080/"
        },
        "id": "NHKRNe0YTVTr",
        "outputId": "ebacd8ce-33e2-4a07-c6bd-1b243217fa6c"
      },
      "execution_count": null,
      "outputs": [
        {
          "output_type": "stream",
          "name": "stdout",
          "text": [
            "1.4142857142857144\n",
            "1.4142135623730951\n"
          ]
        }
      ]
    },
    {
      "cell_type": "markdown",
      "source": [
        "Ex: Write a function using *my_newton(f, df, x0, tol)* , where\n",
        "* the output is an estimation of the root of f\n",
        "* *f* is a function object $f(x)$\n",
        "* *df* is a function object to $f'(x)$\n",
        "* *x0* is an initial guess\n",
        "* *tol* is the error tolerance\n",
        "* The measure of error: $|f(x)|$\n"
      ],
      "metadata": {
        "id": "OS9pecEcYdGz"
      }
    },
    {
      "cell_type": "code",
      "source": [
        "def my_newton(f, df, x0, tol):\n",
        "  if abs(f(x0)) < tol:\n",
        "    return x0\n",
        "  else:\n",
        "    return my_newton(f, df, x0 - f(x0)/df(x0), tol)"
      ],
      "metadata": {
        "id": "sFC_1v64ZsG5"
      },
      "execution_count": null,
      "outputs": []
    },
    {
      "cell_type": "markdown",
      "source": [
        "If $x_0$ is close to $x_r$, then generally the Newton-Raphson methos converges to the actual root, $x_r$, faster than the bisection method. However, if the derivative at a guess is close to 0, the Newton step will be very large, which can lead to a result that is further from the root. In addition, on certain circumstances, the Newton-Raphson methos can converge to a root that is not $x_r$."
      ],
      "metadata": {
        "id": "O7Z4MwPEaJmD"
      }
    },
    {
      "cell_type": "markdown",
      "source": [
        "## Section 19.5: Root Finding in Pyhton\n",
        "The *f_solve* function allows us to get the roots of a function very easily.\n",
        "\n",
        "\\\n",
        "Ex: Compute the root of the function $f(x) = x^3 - 150x^2-x+ 150$ using *f_solve*."
      ],
      "metadata": {
        "id": "QJFR99qXbavT"
      }
    },
    {
      "cell_type": "code",
      "source": [
        "from scipy.optimize import fsolve"
      ],
      "metadata": {
        "id": "Izx57eFbgPuD"
      },
      "execution_count": null,
      "outputs": []
    },
    {
      "cell_type": "code",
      "source": [
        "f = lambda x: x**3 -150*x**2 -x +150\n",
        "\n",
        "fsolve(f, [2,80])"
      ],
      "metadata": {
        "colab": {
          "base_uri": "https://localhost:8080/"
        },
        "id": "aGlNlec1gW8Q",
        "outputId": "ee3d4c77-4800-4e9b-a25b-2f11ea7650f0"
      },
      "execution_count": null,
      "outputs": [
        {
          "output_type": "execute_result",
          "data": {
            "text/plain": [
              "array([ 1., -1.])"
            ]
          },
          "metadata": {},
          "execution_count": 65
        }
      ]
    },
    {
      "cell_type": "markdown",
      "source": [
        "This function has two roots: $x=1$ and $x=-1$.\n"
      ],
      "metadata": {
        "id": "y0fGURKRhNS5"
      }
    }
  ]
}