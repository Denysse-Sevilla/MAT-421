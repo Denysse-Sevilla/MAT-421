{
  "nbformat": 4,
  "nbformat_minor": 0,
  "metadata": {
    "colab": {
      "provenance": [],
      "authorship_tag": "ABX9TyNzgF5JE4qpwWWqZAz2ASol",
      "include_colab_link": true
    },
    "kernelspec": {
      "name": "python3",
      "display_name": "Python 3"
    },
    "language_info": {
      "name": "python"
    }
  },
  "cells": [
    {
      "cell_type": "markdown",
      "metadata": {
        "id": "view-in-github",
        "colab_type": "text"
      },
      "source": [
        "<a href=\"https://colab.research.google.com/github/Denysse-Sevilla/MAT-421/blob/main/Module_J_4_1.ipynb\" target=\"_parent\"><img src=\"https://colab.research.google.com/assets/colab-badge.svg\" alt=\"Open In Colab\"/></a>"
      ]
    },
    {
      "cell_type": "markdown",
      "source": [
        "# **Homework #10- Denysse Sevilla**"
      ],
      "metadata": {
        "id": "63Lbiaf-4a3W"
      }
    },
    {
      "cell_type": "markdown",
      "source": [
        "## Section 4.1: Introduction"
      ],
      "metadata": {
        "id": "6yjQxRe45QXv"
      }
    },
    {
      "cell_type": "markdown",
      "source": [
        "Network analysis helps us analyze data since  huge amounts of data are network structured.\n",
        "\n",
        "Network analysis allows us to analyze correlations between networks and variables.\n",
        "* Networks can be modeled by graphs (social graph)\n",
        "  * An edge connects two nodes together based on their relationship characterized by the network.  \n",
        "* Networks facilitate the detection of clusters or communities\n",
        "  * Clustering and community detection: discovering a group of nodes in a graph that are more connected with each other within the group than those outside the group.\n",
        "    * Communities allow spatio-temporal insight into big datasets from networks, describing the strength of network connectivity among communities.\n",
        "\n",
        "\n",
        "We will focus on spectral clustering analysis in this Module!"
      ],
      "metadata": {
        "id": "sQUUgy7G6dkh"
      }
    },
    {
      "cell_type": "markdown",
      "source": [
        "#### Section 4.1.1: Graph Models"
      ],
      "metadata": {
        "id": "_aqDQ7NA9PdV"
      }
    },
    {
      "cell_type": "markdown",
      "source": [
        "Review of common notations:\n",
        "* Nodes: set of objects\n",
        "* Edges: connections between nodes\n",
        "* Graph F is denoted as pair $F(V,E)$\n",
        "  * $V= {v_1, v_2, ..., v_n}$ represents the set of nodes\n",
        "  * $E= {e_1,e_2, ..., e_m}$ represents the set of edges.\n",
        "  * $m = |E|$ represents the size of the set\n",
        "* Edges are also represented by their endpoints: $e(v_1,v_2)$, or $(v_1,v_2)$.\n",
        "* Edges can have directions\n",
        "  * $e(v_1,v_2) \\neq e(v_2,v_1)$\n",
        "* Nodes in undirected edges are connected both ways\n",
        "* Mixed graphs have both directed and undirected edges\n",
        "* Path: a sequence of edges where nodes and edges are distinct\n",
        "  * Ex: $e_1(v_1, v_2), e_2(v_2,v_3), e_3(v_3,v_4), ..., e_i(v_i, v_{i+1})$\n",
        "* Closed path: a cycle\n",
        "* The length of a path or cycle is the number of edges across the path or cycle\n",
        "  * Only directed paths are counted for directed graphs\n",
        "  * Multiple paths can exist between any pair of nodes in a connected graph\n",
        "    * The shortest path is usually of our interest since it can be used as distance for modeling networks\n",
        "      * Can be used to generalize the concept of the neighborhood of a node\n",
        "        * $n$-hop neighborhood of node $v_i$: the set of nodes that are within $n$ hops distance from node $v_i$\n",
        "* Degree (of a node\n",
        "): the number of edges connected to the node\n",
        "  * In-degrees: edges toward the node\n",
        "    * Describes the prominence of a node\n",
        "  * Out-degrees: edges away from the node\n",
        "    * Describes the socialbility of the node\n",
        "* Nodes with the most connections have the greatest degree of centrality\n",
        "  * Degree centrality: measures relative levels of importance"
      ],
      "metadata": {
        "id": "Igk4PvMu9Vvv"
      }
    },
    {
      "cell_type": "markdown",
      "source": [
        "#### Section 4.1.2: Laplacian Matrix"
      ],
      "metadata": {
        "id": "8F9eeEusGG7M"
      }
    },
    {
      "cell_type": "markdown",
      "source": [
        "A graph with $n$ nodes can also be represented by a $n 𝗑 n$ adjacency matrix. At row $i$, column $j$ in the adjacency matrix:\n",
        "* A value of 1 indicates a connection between nodes $v_i$ and $v_j$\n",
        "* A value of 0 indicates no connection between nodes $v_i$ and $v_j$\n",
        "\n",
        "\\\n",
        "The adjacency matrix for directed graphs are in general not symmentric, while for undirected graphs they are $(A=A^T)$.\n",
        "\n",
        "\\\n",
        "(Theorem 4.1.3) The Laplacian matrix of $l$ has the following properties:\n",
        "1. $L=D-M$, where $M$ is the adjacency matrix and $D$ is the diagonal degree matrix with $D_{ii}= ∑_kE_{ik}$.\n",
        "2. $L=I_GI_G^T$.\n",
        "3. $L$ is symmetric positive semi-definite. All eigenvalues are real and non-negative, and $L$ has a full set of $n$ real and orthogonal eigenvectors.\n",
        "4. Let $e=[1, ..., 1]^T$. Then, $Le=0$. Thus, $0$ is the smallest eigenvalue and $e$ is the corresponsing eigenvectors.\n",
        "5. If the graph $G$ has $c$ connected components, then $L$ has $c$ eigenvalues that is $0$.\n",
        "6. For any vector $x, x^TLx = ∑_{{i,j}∈E} E_{ij}(x_i-x_j)^2$.\n",
        "7. For any vector $x$ and scalars $α,β, (αx+βe) = α^2x^TLx$.\n",
        "* The problem: $min_{x\\neq 0}x^TLx$, subject to $x^Tx=1, x^Te=0$, is solved when $x$ is the eigenvector corresponding to the second smallest eigenvalue (the Fiedler vector) $λ_2$ of the eigenvalue problem: $Lx=λx$.\n",
        "\n",
        "\\\n",
        "(Theorem 4.1.4) Courant-Fischer Theorem:\n",
        "Let $A$ be a $n𝗑n$ symmetric matrix with the orthogonal diagonalization $A=PDP^{-1}$. The columns of $P$ are orthonormal eigenvectors $v_1, ..., v_n$ of $A$. Assume that the diagonal of $D$ are arranged so that $λ_1 ≤ λ_2, ..., ≤λ_n$. Let $S_k$ be the span of $v_1, ..., v_k$ and $S_k^⊥$ denote the orthogonal complement of $S_k$. Then:\n",
        "\n",
        "$min_{x \\neq 0, x∈S_{k-1}^⊥} \\frac{x^TAx}{x^Tx} = λ_k$.\n",
        "\n",
        "When $k=2$, $S_1^⊥$ is all $x$ such that $x⊥v_1$, or $v_1^T ⋅ x =0$, which implies that $min_{x \\neq 0, x^Tv_1=0} \\frac{x^TAx}{x^Tx} = λ_2$.\n",
        "\n"
      ],
      "metadata": {
        "id": "v6Ha9dQQGRwm"
      }
    }
  ]
}