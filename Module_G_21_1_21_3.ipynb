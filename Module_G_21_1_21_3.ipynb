{
  "nbformat": 4,
  "nbformat_minor": 0,
  "metadata": {
    "colab": {
      "provenance": [],
      "authorship_tag": "ABX9TyM/4D/R/J1W7BUQn5c+og/m",
      "include_colab_link": true
    },
    "kernelspec": {
      "name": "python3",
      "display_name": "Python 3"
    },
    "language_info": {
      "name": "python"
    }
  },
  "cells": [
    {
      "cell_type": "markdown",
      "metadata": {
        "id": "view-in-github",
        "colab_type": "text"
      },
      "source": [
        "<a href=\"https://colab.research.google.com/github/Denysse-Sevilla/MAT-421/blob/main/Module_G_21_1_21_3.ipynb\" target=\"_parent\"><img src=\"https://colab.research.google.com/assets/colab-badge.svg\" alt=\"Open In Colab\"/></a>"
      ]
    },
    {
      "cell_type": "markdown",
      "source": [
        "# **Homework #7- Denysse Sevilla**"
      ],
      "metadata": {
        "id": "G6frIidRGwam"
      }
    },
    {
      "cell_type": "markdown",
      "source": [
        "## Section 21.1: Numerical Integration Problem Statement"
      ],
      "metadata": {
        "id": "MHNrNlSFGywl"
      }
    },
    {
      "cell_type": "markdown",
      "source": [
        "There are several ways to approximate $ ∫_a^b f(x)dx$ over the interval $[a,b]$.\n",
        "\n",
        "\\\n",
        "We assume:\n",
        "* The interval has been discretized into a numerical grid\n",
        "  * $x$ has $n+1$ points\n",
        "  * Spacing: $h=\\frac{b-a}{n}$\n",
        "* $f(x)$ can be computed for any point on the grid\n",
        "* $x$ is denoted by $x_i$\n",
        "  * $x_0=a$\n",
        "  * $x_n=b$"
      ],
      "metadata": {
        "id": "XB86Zqa3JHTt"
      }
    },
    {
      "cell_type": "markdown",
      "source": [
        "## Section 21.2: Riemanns Integral"
      ],
      "metadata": {
        "id": "RUgWfsm0JHw6"
      }
    },
    {
      "cell_type": "markdown",
      "source": [
        "To approximate integrals, we can sum the area of rectangles defined for each subinterval.\n",
        "\n",
        "**Riemann Integral** Approximation:\n",
        "* Right endpoint\n",
        "$∫_a^b f(x)dx ≈ ∑_{i=1}^n h f(x_i)$\n",
        "\n",
        "* Left endpoint\n",
        "$∫_a^b f(x)dx ≈ ∑_{i=0}^{n-1} h f(x_i)$\n",
        "\n",
        "Note: $h= x_{i+1}-x_i$ is the width of the rectangle and a function value $f(x)$ for some $x$ in the subinterval is the height.\n",
        "\n",
        "\\\n",
        "**Midpoint Rule** approximates the area under the integral using the midpoints $[y=\\frac{x_{i+1}-x_i}{2}]$ of each rectangle height.\n",
        "\n",
        "$∫_a^b f(x)dx ≈ ∑_{i=0}^{n-1} h f(y_i)$\n",
        "\n",
        "\\\n",
        "Ex: Use left Riemann Integral, right Riemann integral, and Midpoint Rule to approximate $∫_0^{π/2} cos(x)dx$ with 20 evenly spaced grid points over the whole interval. Compare this value to the exact value of 1.\n",
        "\n",
        "\n",
        "\n",
        "\n"
      ],
      "metadata": {
        "id": "MNK90tyFJLxq"
      }
    },
    {
      "cell_type": "code",
      "source": [
        "import numpy as np\n",
        "\n",
        "a = 0\n",
        "b = (np.pi)/2\n",
        "n = 20\n",
        "h = (b - a) / (n - 1)\n",
        "x = np.linspace(a, b, n)\n",
        "f = np.cos(x)\n",
        "\n",
        "riemannL = h * sum(f[:n-1])\n",
        "err_riemannL = 1 - riemannL\n",
        "\n",
        "riemannR = h * sum(f[1::])\n",
        "err_riemannR = 1 - riemannR\n",
        "\n",
        "mid = h * sum(np.sin((x[:n-1] \\\n",
        "        + x[1:])/2))\n",
        "err_mid = 1 - mid\n",
        "\n",
        "print(\"Left Riemann Value:\", riemannL)\n",
        "print(\"Error:\", err_riemannL)\n",
        "\n",
        "print(\"Right Riemann Value:\", riemannR)\n",
        "print(\"Error:\", err_riemannR)\n",
        "\n",
        "print(\"Midpoint Rule Value:\", mid)\n",
        "print(\"Error:\", err_mid)\n"
      ],
      "metadata": {
        "colab": {
          "base_uri": "https://localhost:8080/"
        },
        "id": "LxN_ft2LJMRt",
        "outputId": "57636e6c-20bd-4d27-9e39-22fbaa549d67"
      },
      "execution_count": 4,
      "outputs": [
        {
          "output_type": "stream",
          "name": "stdout",
          "text": [
            "Left Riemann Value: 1.040767105040247\n",
            "Error: -0.04076710504024694\n",
            "Right Riemann Value: 0.958093614156305\n",
            "Error: 0.04190638584369499\n",
            "Midpoint Rule Value: 1.0002848445370318\n",
            "Error: -0.0002848445370318142\n"
          ]
        }
      ]
    },
    {
      "cell_type": "markdown",
      "source": [
        "Notice how the approximation error using the Midpoint Rule method is the smallest!"
      ],
      "metadata": {
        "id": "4__m6RQ-Q4zC"
      }
    },
    {
      "cell_type": "markdown",
      "source": [
        "## Section 21.3: Trapezoid Rule"
      ],
      "metadata": {
        "id": "0JR4N-AkJMjh"
      }
    },
    {
      "cell_type": "markdown",
      "source": [
        "The **Trapezoid Rule** approximates the total integral by summing the value of trapezoids fitted into each subinterval.\n",
        "\n",
        "$∫_a^b f(x)dx ≈ ∑_{i=0}^{n-1} h \\frac{f(x_i)+f(x_{i+1})}{2}$\n",
        "\n",
        "\\\n",
        "Ex (cont'd): Use the Trapezoid Rule to approximate $∫_0^{π/2} cos(x)dx$ with 20 evenly spaced grid points over the whole interval. Compare this value to the exact value of 1.\n"
      ],
      "metadata": {
        "id": "wD_uwO3RJVJ4"
      }
    },
    {
      "cell_type": "code",
      "source": [
        "import numpy as np\n",
        "\n",
        "a = 0\n",
        "b = (np.pi)/2\n",
        "n = 20\n",
        "h = (b - a) / (n - 1)\n",
        "x = np.linspace(a, b, n)\n",
        "f = np.cos(x)\n",
        "\n",
        "trapezoid = (h/2)*(f[0] + \\\n",
        "          2 * sum(f[1:n-1]) + f[n-1])\n",
        "err_trapezoid = 1 - trapezoid\n",
        "\n",
        "print(\"Trapezoid Rule Value:\", trapezoid)\n",
        "print(\"Error:\", err_trapezoid)"
      ],
      "metadata": {
        "colab": {
          "base_uri": "https://localhost:8080/"
        },
        "id": "UIlZ7I3MJVeZ",
        "outputId": "43d3579a-affb-48f1-9db8-40fb60d9c5cb"
      },
      "execution_count": 6,
      "outputs": [
        {
          "output_type": "stream",
          "name": "stdout",
          "text": [
            "Trapezoid Rule Value: 0.999430359598276\n",
            "Error: 0.0005696404017240253\n"
          ]
        }
      ]
    }
  ]
}